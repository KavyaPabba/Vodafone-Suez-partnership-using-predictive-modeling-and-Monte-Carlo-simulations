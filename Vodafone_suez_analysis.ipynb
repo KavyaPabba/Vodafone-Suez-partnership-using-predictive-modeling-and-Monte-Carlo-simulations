{
 "cells": [
  {
   "cell_type": "markdown",
   "id": "73231f45",
   "metadata": {},
   "source": [
    "\n",
    "# CAPSTONE — Telco × Energy (EU/UK) "
   ]
  },
  {
   "cell_type": "code",
   "execution_count": 1,
   "id": "8c51b821",
   "metadata": {},
   "outputs": [],
   "source": [
    "\n",
    "import pandas as pd\n",
    "import numpy as np\n",
    "import matplotlib.pyplot as plt\n",
    "from pathlib import Path\n"
   ]
  },
  {
   "cell_type": "markdown",
   "id": "a67a48dd",
   "metadata": {},
   "source": [
    "### Paths & ROI parameters"
   ]
  },
  {
   "cell_type": "code",
   "execution_count": 2,
   "id": "ff5c4519",
   "metadata": {},
   "outputs": [
    {
     "name": "stdout",
     "output_type": "stream",
     "text": [
      "Observation: Output folder = /Users/bella/Downloads/vodafone/Methodology/capstone_outputs_final\n"
     ]
    }
   ],
   "source": [
    "\n",
    "BASE = Path(\"/Users/bella/Downloads/vodafone/Methodology/capstone_outputs_final\")\n",
    "BASE.mkdir(parents=True, exist_ok=True)\n",
    "OUT = BASE\n",
    "\n",
    "# Optional input (press-facts) files if you already have them.\n",
    "# If missing, the script auto-creates a minimal league so it still runs E2E.\n",
    "P_VODA_SUEZ = OUT / \"vodafone_suez_press_facts.csv\"\n",
    "P_ORANGE_BZ = OUT / \"orange_veolia_birdz_press_facts.csv\"\n",
    "\n",
    "# Outputs\n",
    "LEAGUE_OUT    = OUT / \"eu_telco_energy_league_press_facts.csv\"\n",
    "RANKED_OUT    = OUT / \"league_ranked_speed.csv\"\n",
    "VODA_PROJ_CSV = OUT / \"vodafone_suez_projection_from_public_target.csv\"\n",
    "VODA_PROJ_PNG = OUT / \"vodafone_suez_adoption.png\"\n",
    "VALUE_CURVE_PNG = OUT / \"vodafone_suez_value_curve_MODEL.png\"\n",
    "SENS_TORNADO_PNG = OUT / \"vodafone_suez_sensitivity_units_tornado.png\"\n",
    "MC_OUT        = OUT / \"vodafone_suez_monte_carlo_summary.csv\"\n",
    "SENS_OUT      = OUT / \"vodafone_suez_sensitivity_one_way.csv\"\n",
    "ROI_OUT       = OUT / \"vodafone_suez_roi_summary.csv\"\n",
    "ROI_BAR_PNG   = OUT / \"roi_comparison.png\"\n",
    "RADAR_PNG     = OUT / \"kpi_radar.png\"\n",
    "WRITEUP_MD    = OUT / \"capstone_results_writeup.md\"\n",
    "APPX_KPI_CSV  = OUT / \"kpi_inputs_telco_energy.csv\"\n",
    "APPX_LEAGUE_MIN_CSV = OUT / \"league_table_telco_energy_min.csv\"\n",
    "SECTOR_SMART_WATER_PNG = OUT / \"plot_scale_smart_water.png\"\n",
    "TOP_COUNTRIES_CSV      = OUT / \"top_countries_allocated_MODEL.csv\"\n",
    "TOP_COUNTRIES_PNG      = OUT / \"top_countries_bar_MODEL.png\"\n",
    "\n",
    "# ROI model parameters (MODEL) — public-benchmark buckets\n",
    "AVG_ANNUAL_WATER_SPEND_PER_CONNECTION_EUR = 300   # EU residential/SME magnitude\n",
    "CONSUMPTION_REDUCTION_PCT = 0.15                  # “up to 15%” (Vodafone/SUEZ PR)\n",
    "CAPEX_PER_METER_EUR = 100                         # meter+comms+install bucket\n",
    "OPEX_PER_METER_PER_YEAR = 0.0                     # keep 0 if unknown\n",
    "DISCOUNT_RATE_ANNUAL = 0.08                       # 8% WACC proxy\n",
    "\n",
    "print(\"Observation: Output folder =\", OUT)\n"
   ]
  },
  {
   "cell_type": "markdown",
   "id": "6ef6b2b0",
   "metadata": {},
   "source": [
    "\n",
    "### Load (or auto-create) press-facts data"
   ]
  },
  {
   "cell_type": "code",
   "execution_count": 3,
   "id": "f1d0c39e",
   "metadata": {},
   "outputs": [
    {
     "name": "stdout",
     "output_type": "stream",
     "text": [
      "Observation: merged league rows = 2\n",
      "Observation: wrote eu_telco_energy_league_press_facts.csv\n"
     ]
    }
   ],
   "source": [
    "def load_if_exists(path: Path):\n",
    "    if not path.exists():\n",
    "        return None\n",
    "    df = pd.read_csv(path)\n",
    "    df.columns = df.columns.str.lower().str.strip()\n",
    "    if \"announcement_date\" in df.columns:\n",
    "        df[\"announcement_date\"] = pd.to_datetime(df[\"announcement_date\"], errors=\"coerce\")\n",
    "    for col in (\"start_year\",\"target_year\",\"announced_units_or_capacity\",\"claimed_savings_pct\"):\n",
    "        if col in df.columns: df[col] = pd.to_numeric(df[col], errors=\"coerce\")\n",
    "    for col in (\"partnership\",\"sector\",\"countries\",\"unit_type\",\"notes\",\"source_title\",\"source_url\"):\n",
    "        if col in df.columns: df[col] = df[col].astype(str).str.strip()\n",
    "    return df\n",
    "\n",
    "dfs = []\n",
    "for p in [P_VODA_SUEZ, P_ORANGE_BZ]:\n",
    "    d = load_if_exists(p)\n",
    "    if d is not None: dfs.append(d)\n",
    "\n",
    "if not dfs:\n",
    "    # Minimal auditable fallback from public press releases\n",
    "    league_min = pd.DataFrame([\n",
    "        {\n",
    "            \"partnership\":\"Vodafone–SUEZ\",\"sector\":\"Smart water (NB‑IoT)\",\n",
    "            \"countries\":\"UK; FR; IT; ES; NZ\",\"announcement_date\":\"2024-04-15\",\n",
    "            \"start_year\":2024,\"announced_units_or_capacity\":2_000_000,\n",
    "            \"unit_type\":\"smart meters\",\"target_year\":2030,\"claimed_savings_pct\":15.0,\n",
    "            \"source_title\":\"SUEZ × Vodafone press release\",\n",
    "            \"source_url\":\"https://www.suez.com/en/news/press-releases/suez-vodafone-sign-global-partnership-remote-reading-new-generation-smart-water-meters\"\n",
    "        },\n",
    "        {\n",
    "            \"partnership\":\"Orange–Veolia/Birdz\",\"sector\":\"Smart water (LoRaWAN)\",\n",
    "            \"countries\":\"FR\",\"announcement_date\":\"2018-12-19\",\n",
    "            \"start_year\":2018,\"announced_units_or_capacity\":3_000_000,\n",
    "            \"unit_type\":\"smart meters (connected)\",\"target_year\":2027,\"claimed_savings_pct\":np.nan,\n",
    "            \"source_title\":\"Orange newsroom — Birdz 3M meters (LoRa)\",\n",
    "            \"source_url\":\"https://newsroom.orange.com/nova-veolia-and-its-subsidiary-birdz-choose-orange-business-services-to-help-them-digitalize-veolias-remote-water-meter-reading-services-in-france/\"\n",
    "        }\n",
    "    ])\n",
    "    league_min[\"announcement_date\"] = pd.to_datetime(league_min[\"announcement_date\"])\n",
    "    dfs = [league_min]\n",
    "\n",
    "league = pd.concat(dfs, ignore_index=True)\n",
    "league.columns = [c.strip().lower().replace(\" \",\"_\") for c in league.columns]\n",
    "print(f\"Observation: merged league rows = {len(league)}\")\n",
    "\n",
    "# EU/UK focus (both already EU; left for completeness)\n",
    "eu_countries = [\"UK\",\"United Kingdom\",\"Italy\",\"France\",\"Germany\",\"Spain\",\"EU/Global\",\"EU\",\"Ireland\",\"Portugal\"]\n",
    "league[\"eu_uk_flag\"] = league[\"countries\"].fillna(\"\").apply(lambda s: any(c in s for c in eu_countries))\n",
    "league_eu = league[league[\"eu_uk_flag\"]].copy()\n",
    "league_eu[\"label\"] = league_eu[\"partnership\"] + \" — \" + league_eu[\"sector\"]\n",
    "league.to_csv(LEAGUE_OUT, index=False)\n",
    "league.to_csv(APPX_LEAGUE_MIN_CSV, index=False)\n",
    "print(f\"Observation: wrote {LEAGUE_OUT.name}\")\n"
   ]
  },
  {
   "cell_type": "markdown",
   "id": "875a625f",
   "metadata": {},
   "source": [
    "\n",
    "### Descriptive KPIs — pace & sector chart"
   ]
  },
  {
   "cell_type": "code",
   "execution_count": 4,
   "id": "38af5c2d",
   "metadata": {},
   "outputs": [
    {
     "name": "stdout",
     "output_type": "stream",
     "text": [
      "Observation: wrote league_ranked_speed.csv\n",
      "Observation: saved plot_scale_smart_water.png\n"
     ]
    }
   ],
   "source": [
    "\n",
    "def pace_units_per_year(row):\n",
    "    if pd.notna(row.get(\"announced_units_or_capacity\")) and pd.notna(row.get(\"start_year\")) and pd.notna(row.get(\"target_year\")):\n",
    "        years = max(1, int(row[\"target_year\"] - row[\"start_year\"]))\n",
    "        return row[\"announced_units_or_capacity\"] / years\n",
    "    return np.nan\n",
    "\n",
    "league_eu[\"speed_index_units_per_year\"] = league_eu.apply(pace_units_per_year, axis=1)\n",
    "ranked = league_eu.sort_values(\"speed_index_units_per_year\", ascending=False)\n",
    "ranked.to_csv(RANKED_OUT, index=False)\n",
    "print(f\"Observation: wrote {RANKED_OUT.name}\")\n",
    "\n",
    "# Sector plot (smart water only)\n",
    "sub = league_eu[(league_eu[\"sector\"].str.contains(\"Smart water\", case=False, na=False)) &\n",
    "                (league_eu[\"announced_units_or_capacity\"].notna())].copy()\n",
    "if not sub.empty:\n",
    "    sub = sub.sort_values(\"announced_units_or_capacity\", ascending=True)\n",
    "    plt.figure()\n",
    "    plt.barh(sub[\"partnership\"], sub[\"announced_units_or_capacity\"])\n",
    "    plt.title(\"Scale by partnership — Smart water\")\n",
    "    plt.xlabel(\"announced units\")\n",
    "    plt.tight_layout()\n",
    "    plt.savefig(SECTOR_SMART_WATER_PNG, bbox_inches=\"tight\"); plt.close()\n",
    "    print(f\"Observation: saved {SECTOR_SMART_WATER_PNG.name}\")\n",
    "else:\n",
    "    print(\"Observation: no numeric smart-water values to chart; skipped.\")\n"
   ]
  },
  {
   "cell_type": "markdown",
   "id": "6325556e",
   "metadata": {},
   "source": [
    "### Predictive modelling (MODEL) — adoption"
   ]
  },
  {
   "cell_type": "code",
   "execution_count": 5,
   "id": "4f42f0c2",
   "metadata": {},
   "outputs": [
    {
     "name": "stdout",
     "output_type": "stream",
     "text": [
      "Observation (Model): wrote vodafone_suez_projection_from_public_target.csv  [K=2,000,000, start=2024, target=2030, r=0.55]\n",
      "Observation (Model): saved vodafone_suez_adoption.png\n",
      "Observation (Model): milestones — 50%: 2027, 80%: 2030\n"
     ]
    }
   ],
   "source": [
    "\n",
    "\n",
    "voda_rows = league_eu[league_eu[\"partnership\"].str.contains(\"Vodafone\", case=False, na=False)]\n",
    "K = int(voda_rows[\"announced_units_or_capacity\"].dropna().max()) if not voda_rows.empty else 2_000_000\n",
    "start_year = int(voda_rows[\"start_year\"].dropna().min()) if not voda_rows.empty else 2024\n",
    "target_year = int(voda_rows[\"target_year\"].dropna().max()) if not voda_rows.empty else 2030\n",
    "r = 0.55  # logistic steepness\n",
    "\n",
    "years = np.arange(start_year, target_year + 1)\n",
    "t = years - start_year\n",
    "t0 = (target_year - start_year) / 2.0\n",
    "proj_units = K / (1 + np.exp(-r*(t - t0)))\n",
    "voda_proj = pd.DataFrame({\"year\": years, \"projected_cumulative_units\": proj_units})\n",
    "voda_proj.to_csv(VODA_PROJ_CSV, index=False)\n",
    "print(f\"Observation (Model): wrote {VODA_PROJ_CSV.name}  [K={K:,}, start={start_year}, target={target_year}, r={r}]\")\n",
    "\n",
    "plt.figure()\n",
    "plt.plot(voda_proj[\"year\"], voda_proj[\"projected_cumulative_units\"]/1e6, marker=\"o\")\n",
    "plt.title(\"Vodafone–SUEZ: projected cumulative units (MODEL)\")\n",
    "plt.xlabel(\"year\"); plt.ylabel(\"units (millions)\")\n",
    "plt.grid(True); plt.tight_layout()\n",
    "plt.savefig(VODA_PROJ_PNG, bbox_inches=\"tight\"); plt.close()\n",
    "print(f\"Observation (Model): saved {VODA_PROJ_PNG.name}\")\n",
    "\n",
    "def milestone(df, frac=0.5):\n",
    "    thr = K * frac\n",
    "    sel = df[df[\"projected_cumulative_units\"] >= thr]\n",
    "    return None if sel.empty else int(sel.iloc[0][\"year\"])\n",
    "m50 = milestone(voda_proj, 0.5)\n",
    "m80 = milestone(voda_proj, 0.8)\n",
    "print(f\"Observation (Model): milestones — 50%: {m50}, 80%: {m80}\")\n",
    "\n"
   ]
  },
  {
   "cell_type": "markdown",
   "id": "53ed8b86",
   "metadata": {},
   "source": [
    "\n",
    "### Value & ROI model (MODEL) — annual basis"
   ]
  },
  {
   "cell_type": "code",
   "execution_count": 6,
   "id": "e554f239",
   "metadata": {},
   "outputs": [
    {
     "name": "stdout",
     "output_type": "stream",
     "text": [
      "Observation (Model): saved vodafone_suez_value_curve_MODEL.png\n",
      "Observation (Model): wrote vodafone_suez_roi_summary.csv\n"
     ]
    }
   ],
   "source": [
    "\n",
    "\n",
    "annual_saving_per_meter = AVG_ANNUAL_WATER_SPEND_PER_CONNECTION_EUR * CONSUMPTION_REDUCTION_PCT\n",
    "voda_val = voda_proj.copy()\n",
    "voda_val[\"new_installs\"] = voda_val[\"projected_cumulative_units\"].diff().fillna(voda_val[\"projected_cumulative_units\"])\n",
    "voda_val[\"active_meters\"] = voda_val[\"projected_cumulative_units\"]\n",
    "voda_val[\"yearly_savings_eur\"] = voda_val[\"active_meters\"] * annual_saving_per_meter\n",
    "voda_val[\"yearly_capex_eur\"] = voda_val[\"new_installs\"] * CAPEX_PER_METER_EUR\n",
    "voda_val[\"yearly_opex_eur\"]  = voda_val[\"active_meters\"] * OPEX_PER_METER_PER_YEAR\n",
    "voda_val[\"net_cf_eur\"] = voda_val[\"yearly_savings_eur\"] - voda_val[\"yearly_capex_eur\"] - voda_val[\"yearly_opex_eur\"]\n",
    "voda_val[\"cumulative_savings_eur\"] = voda_val[\"yearly_savings_eur\"].cumsum()\n",
    "voda_val[\"cumulative_capex_eur\"]   = voda_val[\"yearly_capex_eur\"].cumsum()\n",
    "\n",
    "# Payback year\n",
    "cross = voda_val[voda_val[\"cumulative_savings_eur\"] >= voda_val[\"cumulative_capex_eur\"]]\n",
    "payback_year = None if cross.empty else int(cross.iloc[0][\"year\"])\n",
    "\n",
    "# NPV & IRR (annual)\n",
    "def irr_bisect(cash, lo=-0.9, hi=1.0, tol=1e-7, it=200):\n",
    "    def npv_rate(r):\n",
    "        return (cash / ((1 + r) ** np.arange(len(cash)))).sum()\n",
    "    if npv_rate(lo)*npv_rate(hi) > 0: return np.nan\n",
    "    for _ in range(it):\n",
    "        mid = (lo+hi)/2\n",
    "        v = npv_rate(mid)\n",
    "        if abs(v) < tol: return mid\n",
    "        if npv_rate(lo)*v < 0: hi = mid\n",
    "        else: lo = mid\n",
    "    return mid\n",
    "\n",
    "t = np.arange(len(voda_val))\n",
    "disc = 1 / ((1 + DISCOUNT_RATE_ANNUAL) ** t)\n",
    "npv_est = float((voda_val[\"net_cf_eur\"].values * disc).sum())\n",
    "irr_a = irr_bisect(voda_val[\"net_cf_eur\"].values)\n",
    "\n",
    "# ROI on horizon\n",
    "capex_total = float(voda_val[\"cumulative_capex_eur\"].iloc[-1])\n",
    "savings_total = float(voda_val[\"cumulative_savings_eur\"].iloc[-1])\n",
    "roi_h = (savings_total - capex_total)/capex_total if capex_total>0 else np.nan\n",
    "\n",
    "plt.figure()\n",
    "plt.plot(voda_val[\"year\"], voda_val[\"cumulative_savings_eur\"]/1e6, label=\"Cumulative Savings\")\n",
    "plt.plot(voda_val[\"year\"], voda_val[\"cumulative_capex_eur\"]/1e6, label=\"Cumulative CAPEX\")\n",
    "plt.title(\"Vodafone–SUEZ: Value Curve (MODEL)\")\n",
    "plt.xlabel(\"year\"); plt.ylabel(\"€ million\"); plt.legend(); plt.tight_layout()\n",
    "plt.savefig(VALUE_CURVE_PNG, bbox_inches=\"tight\"); plt.close()\n",
    "print(f\"Observation (Model): saved {VALUE_CURVE_PNG.name}\")\n",
    "\n",
    "pd.DataFrame([{\n",
    "    \"annual_spend_per_connection_eur\": AVG_ANNUAL_WATER_SPEND_PER_CONNECTION_EUR,\n",
    "    \"reduction_pct\": CONSUMPTION_REDUCTION_PCT,\n",
    "    \"capex_per_meter_eur\": CAPEX_PER_METER_EUR,\n",
    "    \"opex_per_meter_per_year\": OPEX_PER_METER_PER_YEAR,\n",
    "    \"discount_rate_annual\": DISCOUNT_RATE_ANNUAL,\n",
    "    \"payback_year\": payback_year,\n",
    "    \"npv_eur\": npv_est,\n",
    "    \"irr_annual\": irr_a,\n",
    "    \"roi_horizon\": roi_h,\n",
    "    \"milestone_50pct_year\": m50,\n",
    "    \"milestone_80pct_year\": m80,\n",
    "    \"K_target_units\": K\n",
    "}]).to_csv(ROI_OUT, index=False)\n",
    "print(f\"Observation (Model): wrote {ROI_OUT.name}\")\n"
   ]
  },
  {
   "cell_type": "markdown",
   "id": "3e7301dc",
   "metadata": {},
   "source": [
    "### Sensitivity (one-way) + Monte Carlo"
   ]
  },
  {
   "cell_type": "code",
   "execution_count": 7,
   "id": "6b39d46b",
   "metadata": {},
   "outputs": [
    {
     "name": "stdout",
     "output_type": "stream",
     "text": [
      "Observation (Model): wrote vodafone_suez_sensitivity_one_way.csv\n",
      "Observation (Model): saved vodafone_suez_sensitivity_units_tornado.png\n",
      "Observation (Model): wrote vodafone_suez_monte_carlo_summary.csv\n"
     ]
    }
   ],
   "source": [
    "\n",
    "\n",
    "def value_curve_metrics(Ki, ri, start_y, annual_spend, red_pct, capex_pm, opex_py, disc_rate):\n",
    "    yrs = np.arange(start_y, target_year+1)\n",
    "    t_ = yrs - start_y\n",
    "    t0_ = (target_year - start_y)/2.0\n",
    "    y_ = Ki / (1 + np.exp(-ri*(t_ - t0_)))\n",
    "    df_ = pd.DataFrame({\"year\": yrs, \"projected_cumulative_units\": y_})\n",
    "    annual_sav = annual_spend * red_pct\n",
    "    new_inst = df_[\"projected_cumulative_units\"].diff().fillna(df_[\"projected_cumulative_units\"])\n",
    "    active   = df_[\"projected_cumulative_units\"]\n",
    "    yr_sav   = active * annual_sav\n",
    "    yr_cap   = new_inst * capex_pm\n",
    "    yr_opex  = active * opex_py\n",
    "    net      = yr_sav - yr_cap - yr_opex\n",
    "    cap_tot  = float(yr_cap.cumsum().iloc[-1])\n",
    "    sav_tot  = float(yr_sav.cumsum().iloc[-1])\n",
    "    roi      = (sav_tot - cap_tot)/cap_tot if cap_tot>0 else np.nan\n",
    "    t        = np.arange(len(df_))\n",
    "    disc     = 1/((1+disc_rate)**t)\n",
    "    npv      = float((net.values * disc).sum())\n",
    "    return float(y_[-1]), npv, roi\n",
    "\n",
    "def one_way_sensitivity(K_base, r_base, start_base, spend, red, capex_pm, opex_py, disc):\n",
    "    rows = []\n",
    "    shocks = [\n",
    "        (\"K target (±10%)\", \"K\", 0.10),\n",
    "        (\"Growth rate r (±10%)\", \"r\", 0.10),\n",
    "        (\"Reduction pct (±20%)\", \"red\", 0.20),\n",
    "        (\"Annual spend (±20%)\", \"spend\", 0.20),\n",
    "        (\"CAPEX per meter (±20%)\", \"capex\", 0.20),\n",
    "        (\"Start delay (±2 mo)\", \"delay_months\", 2.0),\n",
    "    ]\n",
    "    base_units, base_npv, base_roi = value_curve_metrics(K_base, r_base, start_base, spend, red, capex_pm, opex_py, disc)\n",
    "    for label, key, delta in shocks:\n",
    "        if key == \"K\":\n",
    "            u_plus, npv_plus, roi_plus = value_curve_metrics(K_base*(1+delta), r_base, start_base, spend, red, capex_pm, opex_py, disc)\n",
    "            u_minus, npv_minus, roi_minus = value_curve_metrics(K_base*(1-delta), r_base, start_base, spend, red, capex_pm, opex_py, disc)\n",
    "        elif key == \"r\":\n",
    "            u_plus, npv_plus, roi_plus = value_curve_metrics(K_base, r_base*(1+delta), start_base, spend, red, capex_pm, opex_py, disc)\n",
    "            u_minus, npv_minus, roi_minus = value_curve_metrics(K_base, r_base*(1-delta), start_base, spend, red, capex_pm, opex_py, disc)\n",
    "        elif key == \"red\":\n",
    "            u_plus, npv_plus, roi_plus = value_curve_metrics(K_base, r_base, start_base, spend, red*(1+delta), capex_pm, opex_py, disc)\n",
    "            u_minus, npv_minus, roi_minus = value_curve_metrics(K_base, r_base, start_base, spend, red*(1-delta), capex_pm, opex_py, disc)\n",
    "        elif key == \"spend\":\n",
    "            u_plus, npv_plus, roi_plus = value_curve_metrics(K_base, r_base, start_base, spend*(1+delta), red, capex_pm, opex_py, disc)\n",
    "            u_minus, npv_minus, roi_minus = value_curve_metrics(K_base, r_base, start_base, spend*(1-delta), red, capex_pm, opex_py, disc)\n",
    "        elif key == \"capex\":\n",
    "            u_plus, npv_plus, roi_plus = value_curve_metrics(K_base, r_base, start_base, spend, red, capex_pm*(1+delta), opex_py, disc)\n",
    "            u_minus, npv_minus, roi_minus = value_curve_metrics(K_base, r_base, start_base, spend, red, capex_pm*(1-delta), opex_py, disc)\n",
    "        else:\n",
    "            u_plus, npv_plus, roi_plus = value_curve_metrics(K_base, r_base, start_base + (delta/12.0), spend, red, capex_pm, opex_py, disc)\n",
    "            u_minus, npv_minus, roi_minus = value_curve_metrics(K_base, r_base, start_base - (delta/12.0), spend, red, capex_pm, opex_py, disc)\n",
    "        rows.append({\n",
    "            \"parameter\": label,\n",
    "            \"baseline_units_2030\": base_units,\n",
    "            \"units_2030_minus\": u_minus, \"units_2030_plus\": u_plus,\n",
    "            \"delta_units_minus\": u_minus - base_units, \"delta_units_plus\": u_plus - base_units,\n",
    "            \"baseline_roi\": base_roi, \"roi_minus\": roi_minus, \"roi_plus\": roi_plus,\n",
    "            \"baseline_npv\": base_npv, \"npv_minus\": npv_minus, \"npv_plus\": npv_plus\n",
    "        })\n",
    "    return pd.DataFrame(rows)\n",
    "\n",
    "sens = one_way_sensitivity(\n",
    "    K, r, start_year,\n",
    "    AVG_ANNUAL_WATER_SPEND_PER_CONNECTION_EUR,\n",
    "    CONSUMPTION_REDUCTION_PCT,\n",
    "    CAPEX_PER_METER_EUR,\n",
    "    OPEX_PER_METER_PER_YEAR,\n",
    "    DISCOUNT_RATE_ANNUAL\n",
    ")\n",
    "sens.to_csv(SENS_OUT, index=False)\n",
    "print(f\"Observation (Model): wrote {SENS_OUT.name}\")\n",
    "\n",
    "plt.figure()\n",
    "labels = sens[\"parameter\"]; neg = sens[\"delta_units_minus\"]; pos = sens[\"delta_units_plus\"]\n",
    "y = np.arange(len(labels))\n",
    "plt.barh(y, pos, left=0, label=\"+ shock\"); plt.barh(y, neg, left=0, label=\"- shock\")\n",
    "plt.yticks(y, labels); plt.xlabel(\"Δ Units by 2030 (vs baseline)\")\n",
    "plt.title(\"Sensitivity — Units by 2030 (MODEL)\"); plt.legend(); plt.tight_layout()\n",
    "plt.savefig(SENS_TORNADO_PNG, bbox_inches=\"tight\"); plt.close()\n",
    "print(f\"Observation (Model): saved {SENS_TORNADO_PNG.name}\")\n",
    "\n",
    "# Monte Carlo (uncertainty in K, r, start delay)\n",
    "def monte_carlo_voda(n=2000, K_mean=K, K_sd_rel=0.10, r_mean=r, r_sd=0.12, delay_mu=2, delay_sd=2):\n",
    "    rng = np.random.default_rng(42)\n",
    "    Ks = rng.normal(K_mean, K_mean*K_sd_rel, n).clip(min=K_mean*0.7)\n",
    "    rs = rng.normal(r_mean, r_sd, n).clip(min=0.1)\n",
    "    delays = rng.normal(delay_mu, delay_sd, n).clip(min=0.0)\n",
    "    months = np.arange(0, (target_year - start_year)*12 + 1)\n",
    "    out_units_2030, time_to_1m = [], []\n",
    "    for Ki, ri, d in zip(Ks, rs, delays):\n",
    "        t0m = (target_year - start_year)/2.0 * 12.0\n",
    "        y_m = Ki / (1 + np.exp(-ri*((months - d) - t0m)/12.0))\n",
    "        out_units_2030.append(y_m[-1])\n",
    "        idx = np.argmax(y_m >= 1_000_000)\n",
    "        time_to_1m.append(idx if y_m[idx] >= 1_000_000 else np.nan)\n",
    "    return np.array(out_units_2030), np.array(time_to_1m)\n",
    "\n",
    "u2030, t1m = monte_carlo_voda()\n",
    "pd.DataFrame([{\n",
    "    \"units_2030_p10\": float(np.nanpercentile(u2030, 10)),\n",
    "    \"units_2030_p50\": float(np.nanpercentile(u2030, 50)),\n",
    "    \"units_2030_p90\": float(np.nanpercentile(u2030, 90)),\n",
    "    \"time_to_1m_months_p10\": float(np.nanpercentile(t1m, 10)),\n",
    "    \"time_to_1m_months_p50\": float(np.nanpercentile(t1m, 50)),\n",
    "    \"time_to_1m_months_p90\": float(np.nanpercentile(t1m, 90)),\n",
    "}]).to_csv(MC_OUT, index=False)\n",
    "print(f\"Observation (Model): wrote {MC_OUT.name}\")\n",
    "\n",
    "\n"
   ]
  },
  {
   "cell_type": "markdown",
   "id": "9a168a5b",
   "metadata": {},
   "source": [
    "### Comparative KPI visuals (Vodafone vs Orange)"
   ]
  },
  {
   "cell_type": "code",
   "execution_count": 8,
   "id": "260e0f36",
   "metadata": {},
   "outputs": [],
   "source": [
    "\n",
    "\n",
    "kpis = pd.DataFrame({\n",
    "    \"Partnership\": [\"Vodafone–SUEZ\",\"Orange–Veolia/Birdz\"],\n",
    "    \"Target Units (2030)\": [K, 3_000_000],\n",
    "    \"Savings %\": [int(CONSUMPTION_REDUCTION_PCT*100), np.nan],\n",
    "    # Vodafone CAPEX modeled; Orange capex/benefit unknown publicly — left NaN (non-synthetic)\n",
    "    \"CAPEX (€m)\": [int(CAPEX_PER_METER_EUR*K/1e6), np.nan],\n",
    "    \"Annual Benefit (€m)\": [int((K*AVG_ANNUAL_WATER_SPEND_PER_CONNECTION_EUR*CONSUMPTION_REDUCTION_PCT)/1e6), np.nan],\n",
    "})\n",
    "kpis[\"Years to Payback\"] = kpis[\"CAPEX (€m)\"] / kpis[\"Annual Benefit (€m)\"]\n"
   ]
  },
  {
   "cell_type": "markdown",
   "id": "0393b6ed",
   "metadata": {},
   "source": [
    "### ROI bar (only partnerships with both CAPEX & Benefit available)"
   ]
  },
  {
   "cell_type": "code",
   "execution_count": 9,
   "id": "f3a91c00",
   "metadata": {},
   "outputs": [
    {
     "name": "stdout",
     "output_type": "stream",
     "text": [
      "Observation: saved roi_comparison.png\n"
     ]
    }
   ],
   "source": [
    "\n",
    "\n",
    "kpis_for_bar = kpis.dropna(subset=[\"CAPEX (€m)\",\"Annual Benefit (€m)\"])\n",
    "plt.figure(figsize=(7,5))\n",
    "plt.bar(kpis_for_bar[\"Partnership\"].astype(str), kpis_for_bar[\"Years to Payback\"])\n",
    "plt.ylabel(\"Years\"); plt.title(\"Comparative ROI (payback years) — MODEL (Vodafone only)\")\n",
    "plt.tight_layout(); plt.savefig(ROI_BAR_PNG, bbox_inches=\"tight\"); plt.close()\n",
    "print(f\"Observation: saved {ROI_BAR_PNG.name}\")\n"
   ]
  },
  {
   "cell_type": "markdown",
   "id": "cc701c49",
   "metadata": {},
   "source": [
    "### Radar chart (normalize numeric KPIs; NaN→0 to visualize scale gaps)"
   ]
  },
  {
   "cell_type": "code",
   "execution_count": 10,
   "id": "ade86c11",
   "metadata": {},
   "outputs": [
    {
     "name": "stdout",
     "output_type": "stream",
     "text": [
      "Observation: saved kpi_radar.png\n"
     ]
    }
   ],
   "source": [
    "\n",
    "radar = kpis.set_index(\"Partnership\")\n",
    "radar_norm = radar / radar.max(numeric_only=True)\n",
    "labels = [c for c in radar_norm.columns if radar_norm[c].notna().any()]\n",
    "angles = np.linspace(0, 2*np.pi, len(labels), endpoint=False).tolist(); angles += angles[:1]\n",
    "fig, ax = plt.subplots(figsize=(6,6), subplot_kw=dict(polar=True))\n",
    "for idx, row in radar_norm.iterrows():\n",
    "    vals = [0 if pd.isna(row[c]) else row[c] for c in labels]; vals += vals[:1]\n",
    "    ax.plot(angles, vals, label=idx); ax.fill(angles, vals, alpha=0.25)\n",
    "ax.set_xticks(angles[:-1]); ax.set_xticklabels(labels, fontsize=9)\n",
    "ax.set_title(\"Comparative KPI Radar (normalized)\"); ax.legend(loc=\"upper right\", bbox_to_anchor=(1.3, 1.1))\n",
    "plt.tight_layout(); plt.savefig(RADAR_PNG, bbox_inches=\"tight\"); plt.close()\n",
    "print(f\"Observation: saved {RADAR_PNG.name}\")\n"
   ]
  },
  {
   "cell_type": "markdown",
   "id": "3534dd66",
   "metadata": {},
   "source": [
    "### Top Countries (allocation MODEL)"
   ]
  },
  {
   "cell_type": "code",
   "execution_count": 11,
   "id": "3be6cb1a",
   "metadata": {},
   "outputs": [
    {
     "name": "stdout",
     "output_type": "stream",
     "text": [
      "Observation (Model): saved top_countries_bar_MODEL.png and wrote top_countries_allocated_MODEL.csv\n"
     ]
    }
   ],
   "source": [
    "\n",
    "\n",
    "\n",
    "def split_countries(s):\n",
    "    if pd.isna(s): return []\n",
    "    parts = [p.strip() for p in str(s).replace(\",\",\";\").split(\";\") if p.strip()]\n",
    "    return parts\n",
    "\n",
    "rows = []\n",
    "for _, r_ in league_eu.iterrows():\n",
    "    countries = split_countries(r_[\"countries\"])\n",
    "    if not countries or pd.isna(r_[\"announced_units_or_capacity\"]): \n",
    "        continue\n",
    "    share = r_[\"announced_units_or_capacity\"] / len(countries)\n",
    "    for c in countries:\n",
    "        rows.append({\"country\": c, \"partnership\": r_[\"partnership\"], \"allocated_units_MODEL\": share})\n",
    "\n",
    "top_c = pd.DataFrame(rows)\n",
    "if not top_c.empty:\n",
    "    top_c_group = top_c.groupby([\"country\",\"partnership\"]).allocated_units_MODEL.sum().reset_index()\n",
    "    top5 = top_c_group.sort_values(\"allocated_units_MODEL\", ascending=False).head(5)\n",
    "    top_c_group.to_csv(TOP_COUNTRIES_CSV, index=False)\n",
    "    plt.figure(figsize=(8,5))\n",
    "    for p in top5[\"partnership\"].unique():\n",
    "        subset = top5[top5[\"partnership\"]==p]\n",
    "        plt.bar(subset[\"country\"], subset[\"allocated_units_MODEL\"], label=p)\n",
    "    plt.ylabel(\"Allocated units (MODEL)\"); plt.title(\"Top Countries by Allocated Target Units (MODEL)\")\n",
    "    plt.legend(); plt.tight_layout(); plt.savefig(TOP_COUNTRIES_PNG, bbox_inches=\"tight\"); plt.close()\n",
    "    print(f\"Observation (Model): saved {TOP_COUNTRIES_PNG.name} and wrote {TOP_COUNTRIES_CSV.name}\")\n",
    "else:\n",
    "    print(\"Observation (Model): No country strings to allocate; skipped top-countries outputs.\")\n"
   ]
  },
  {
   "cell_type": "markdown",
   "id": "821f141d",
   "metadata": {},
   "source": [
    "### Appendices & Executive write-up"
   ]
  },
  {
   "cell_type": "code",
   "execution_count": 12,
   "id": "efebd6f7",
   "metadata": {},
   "outputs": [
    {
     "name": "stdout",
     "output_type": "stream",
     "text": [
      "\n",
      "== DONE ==\n",
      "All CSVs, PNGs, and the write‑up are in: /Users/bella/Downloads/vodafone/Methodology/capstone_outputs_final\n"
     ]
    }
   ],
   "source": [
    "\n",
    "\n",
    "# Appendix KPI inputs (with sources) — mirrors what’s used above\n",
    "pd.DataFrame([\n",
    "    {\"partnership\":\"Vodafone–SUEZ\",\"sector\":\"Smart water (NB‑IoT)\",\"target_units_2030\":K,\n",
    "     \"savings_pct\":int(CONSUMPTION_REDUCTION_PCT*100),\"countries\":\"UK; FR; IT; ES; NZ\",\n",
    "     \"start_year\":start_year,\"target_year\":target_year,\n",
    "     \"source_title\":\"SUEZ × Vodafone press release\",\n",
    "     \"source_url\":\"https://www.suez.com/en/news/press-releases/suez-vodafone-sign-global-partnership-remote-reading-new-generation-smart-water-meters\"},\n",
    "    {\"partnership\":\"Orange–Veolia/Birdz\",\"sector\":\"Smart water (LoRaWAN)\",\"target_units_2030\":3_000_000,\n",
    "     \"savings_pct\":np.nan,\"countries\":\"FR\",\"start_year\":2018,\"target_year\":2027,\n",
    "     \"source_title\":\"Orange newsroom — Birdz 3M meters (LoRa)\",\n",
    "     \"source_url\":\"https://newsroom.orange.com/nova-veolia-and-its-subsidiary-birdz-choose-orange-business-services-to-help-them-digitalize-veolias-remote-water-meter-reading-services-in-france/\"}\n",
    "]).to_csv(APPX_KPI_CSV, index=False)\n",
    "\n",
    "with open(WRITEUP_MD, \"w\", encoding=\"utf-8\") as f:\n",
    "    f.write(\"# Executive Results & Methodology (Press‑facts only)\\n\\n\")\n",
    "    f.write(\"## Data Collection (Open Sources)\\n\")\n",
    "    f.write(\"- SUEZ × Vodafone PR: 2M NB‑IoT smart meters by 2030; up to 15% consumption reduction.\\n\")\n",
    "    f.write(\"- Orange–Veolia/Birdz PR: 3M water meters connected (LoRaWAN) in France.\\n\")\n",
    "    f.write(\"  See appendix CSVs for source titles/URLs.\\n\\n\")\n",
    "    f.write(\"## Wrangling & League\\n\")\n",
    "    f.write(f\"- Consolidated league: `{LEAGUE_OUT.name}` (EU/UK focus). Pace KPI → `{RANKED_OUT.name}`.\\n\\n\")\n",
    "    f.write(\"## Predictive Modelling (MODEL)\\n\")\n",
    "    f.write(f\"- Logistic S‑curve for Vodafone–SUEZ: K={K:,}, start={start_year}, target={target_year}, r={r}; milestones 50%={m50}, 80%={m80}.\\n\")\n",
    "    f.write(f\"- Projection CSV: `{VODA_PROJ_CSV.name}`; Plot: `{VODA_PROJ_PNG.name}`.\\n\\n\")\n",
    "    f.write(\"## Value & ROI (MODEL)\\n\")\n",
    "    f.write(f\"- Parameters: annual spend €{AVG_ANNUAL_WATER_SPEND_PER_CONNECTION_EUR}, savings {int(CONSUMPTION_REDUCTION_PCT*100)}%, capex/meter €{CAPEX_PER_METER_EUR}.\\n\")\n",
    "    f.write(f\"- Payback year: {payback_year}; ROI (horizon): {roi_h:.2f}; NPV: €{np.round(npv_est,0):,.0f}; IRR (annual): {('n/a' if np.isnan(irr_a) else str(np.round(irr_a*100,2))+'%')}.\\n\")\n",
    "    f.write(f\"- Outputs: `{VALUE_CURVE_PNG.name}`, `{ROI_OUT.name}`.\\n\\n\")\n",
    "    f.write(\"## Sensitivity & Monte Carlo (MODEL)\\n\")\n",
    "    f.write(f\"- One‑way sensitivity table: `{SENS_OUT.name}`; tornado: `{SENS_TORNADO_PNG.name}`.\\n\")\n",
    "    f.write(f\"- Monte Carlo summary: `{MC_OUT.name}` (units by 2030; time to 1M meters).\\n\\n\")\n",
    "    f.write(\"## Comparative KPIs & Countries\\n\")\n",
    "    f.write(f\"- ROI bar (available metrics) → `{ROI_BAR_PNG.name}`; KPI radar → `{RADAR_PNG.name}`.\\n\")\n",
    "    f.write(f\"- Sector scale chart: `{SECTOR_SMART_WATER_PNG.name}`.\\n\")\n",
    "    f.write(f\"- Top countries (allocation MODEL): `{TOP_COUNTRIES_CSV.name}`, `{TOP_COUNTRIES_PNG.name}`.\\n\\n\")\n",
    "    f.write(\"**Note:** MODEL outputs derive from public endpoints and benchmark parameters; replace with company figures to refine ROI.\\n\")\n",
    "\n",
    "print(\"\\n== DONE ==\")\n",
    "print(\"All CSVs, PNGs, and the write‑up are in:\", OUT)"
   ]
  }
 ],
 "metadata": {
  "kernelspec": {
   "display_name": "creditfair",
   "language": "python",
   "name": "python3"
  },
  "language_info": {
   "codemirror_mode": {
    "name": "ipython",
    "version": 3
   },
   "file_extension": ".py",
   "mimetype": "text/x-python",
   "name": "python",
   "nbconvert_exporter": "python",
   "pygments_lexer": "ipython3",
   "version": "3.10.18"
  }
 },
 "nbformat": 4,
 "nbformat_minor": 5
}
